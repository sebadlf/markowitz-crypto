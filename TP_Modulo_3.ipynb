{
 "cells": [
  {
   "cell_type": "markdown",
   "metadata": {},
   "source": [
    "TP Modulo 3 - Curso Python para Finanzas"
   ]
  },
  {
   "cell_type": "markdown",
   "metadata": {},
   "source": [
    "# Importamos los modulos a ser utilizados."
   ]
  },
  {
   "cell_type": "code",
   "execution_count": 1,
   "metadata": {},
   "outputs": [],
   "source": [
    "import requests, pandas as pd\n",
    "import numpy as np\n",
    "import tqdm\n",
    "import datetime\n",
    "from  keys import *\n",
    "from db import BD_CONNECTION\n",
    "from sqlalchemy import create_engine"
   ]
  },
  {
   "cell_type": "markdown",
   "metadata": {},
   "source": [
    "# Listamos los Tickers con los cuales vamos a trabajar. (La base siempre va a ser USDT)"
   ]
  },
  {
   "cell_type": "code",
   "execution_count": 2,
   "metadata": {},
   "outputs": [],
   "source": [
    "tickers = ['BTC', 'ETH', 'LTC', 'ETC', 'XRP', 'EOS', 'BCH', 'BSV', 'TRX']"
   ]
  },
  {
   "cell_type": "markdown",
   "metadata": {},
   "source": [
    "# Creamos la tabla en la cual vamos a guardar los datos de OKEX."
   ]
  },
  {
   "cell_type": "code",
   "execution_count": 4,
   "metadata": {},
   "outputs": [
    {
     "data": {
      "text/plain": [
       "<sqlalchemy.engine.result.ResultProxy at 0x7fd9a944f850>"
      ]
     },
     "execution_count": 4,
     "metadata": {},
     "output_type": "execute_result"
    }
   ],
   "source": [
    "engine = create_engine(BD_CONNECTION)\n",
    "\n",
    "create_table = '''\n",
    "CREATE TABLE IF NOT EXISTS `okex` (\n",
    "  `id` int(11) NOT NULL AUTO_INCREMENT,\n",
    "  `ticker` varchar(20) DEFAULT '',\n",
    "  `time` timestamp NULL DEFAULT NULL,\n",
    "  `open` double DEFAULT NULL,\n",
    "  `high` double DEFAULT NULL,\n",
    "  `low` double DEFAULT NULL,\n",
    "  `close` double DEFAULT NULL,\n",
    "  `volume` double DEFAULT NULL,\n",
    "  PRIMARY KEY (`id`),\n",
    "  UNIQUE KEY `idx_ticker_time` (`ticker`,`time`)\n",
    ") ENGINE=InnoDB AUTO_INCREMENT=1 DEFAULT CHARSET=latin1;\n",
    "'''\n",
    "engine.execute(create_table)"
   ]
  },
  {
   "cell_type": "markdown",
   "metadata": {},
   "source": [
    "# Creamos una funcion para bajar los datos de OKEX."
   ]
  },
  {
   "cell_type": "code",
   "execution_count": 5,
   "metadata": {},
   "outputs": [],
   "source": [
    "def historialOkex(ticker,end):\n",
    "    '''ticker=btc, end=datetime'''\n",
    "    url = f'https://okex.com/api/spot/v3/instruments/{ticker}-USDT/history/candles'\n",
    "    start = end + datetime.timedelta(minutes=300 - 1)\n",
    "\n",
    "    params = {\n",
    "        'start': start.strftime('%Y-%m-%dT%H:%M:%S.000Z'),\n",
    "        'end': end.strftime('%Y-%m-%dT%H:%M:%S.000Z'),\n",
    "        'granularity': 60\n",
    "    }\n",
    "    print(params)\n",
    "    r = requests.get(url, params=params)\n",
    "    js = r.json()\n",
    "    df = pd.DataFrame(js)\n",
    "\n",
    "    df.columns = ['time', 'open', 'high', 'low', 'close', 'volume']\n",
    "\n",
    "    df.time = pd.to_datetime(df.time)\n",
    "    df.open = df.open.astype(float)\n",
    "    df.high = df.high.astype(float)\n",
    "    df.low = df.low.astype(float)\n",
    "    df.close = df.close.astype(float)\n",
    "    df.volume = df.volume.astype(float)\n",
    "\n",
    "    df['ticker'] = ticker\n",
    "\n",
    "    df.set_index('time', inplace=True)\n",
    "    return df"
   ]
  },
  {
   "cell_type": "markdown",
   "metadata": {},
   "source": [
    "# Iteramos y llamamos a la funcion creada"
   ]
  },
  {
   "cell_type": "code",
   "execution_count": 6,
   "metadata": {},
   "outputs": [
    {
     "name": "stdout",
     "output_type": "stream",
     "text": [
      "BTC\n",
      "{'start': '2020-11-04T02:43:00.000Z', 'end': '2020-11-03T21:44:00.000Z', 'granularity': 60}\n",
      "{'start': '2020-11-04T05:34:00.000Z', 'end': '2020-11-04T00:35:00.000Z', 'granularity': 60}\n",
      "ETH\n",
      "{'start': '2020-11-04T02:46:00.000Z', 'end': '2020-11-03T21:47:00.000Z', 'granularity': 60}\n",
      "{'start': '2020-11-04T05:34:00.000Z', 'end': '2020-11-04T00:35:00.000Z', 'granularity': 60}\n",
      "LTC\n",
      "{'start': '2020-11-04T02:48:00.000Z', 'end': '2020-11-03T21:49:00.000Z', 'granularity': 60}\n",
      "{'start': '2020-11-04T05:34:00.000Z', 'end': '2020-11-04T00:35:00.000Z', 'granularity': 60}\n",
      "ETC\n",
      "{'start': '2020-11-04T02:50:00.000Z', 'end': '2020-11-03T21:51:00.000Z', 'granularity': 60}\n",
      "{'start': '2020-11-04T05:34:00.000Z', 'end': '2020-11-04T00:35:00.000Z', 'granularity': 60}\n",
      "XRP\n",
      "{'start': '2020-11-04T02:52:00.000Z', 'end': '2020-11-03T21:53:00.000Z', 'granularity': 60}\n",
      "{'start': '2020-11-04T05:34:00.000Z', 'end': '2020-11-04T00:35:00.000Z', 'granularity': 60}\n",
      "EOS\n",
      "{'start': '2020-11-04T02:54:00.000Z', 'end': '2020-11-03T21:55:00.000Z', 'granularity': 60}\n",
      "{'start': '2020-11-04T05:34:00.000Z', 'end': '2020-11-04T00:35:00.000Z', 'granularity': 60}\n",
      "BCH\n",
      "{'start': '2020-11-04T02:57:00.000Z', 'end': '2020-11-03T21:58:00.000Z', 'granularity': 60}\n",
      "{'start': '2020-11-04T05:34:00.000Z', 'end': '2020-11-04T00:35:00.000Z', 'granularity': 60}\n",
      "BSV\n",
      "{'start': '2020-11-04T02:59:00.000Z', 'end': '2020-11-03T22:00:00.000Z', 'granularity': 60}\n",
      "{'start': '2020-11-04T05:34:00.000Z', 'end': '2020-11-04T00:35:00.000Z', 'granularity': 60}\n",
      "TRX\n",
      "{'start': '2020-11-04T03:01:00.000Z', 'end': '2020-11-03T22:02:00.000Z', 'granularity': 60}\n",
      "{'start': '2020-11-04T05:34:00.000Z', 'end': '2020-11-04T00:35:00.000Z', 'granularity': 60}\n"
     ]
    }
   ],
   "source": [
    "for ticker in tickers:\n",
    "    print(ticker)\n",
    "\n",
    "\n",
    "    finished = False\n",
    "    while not finished:\n",
    "        busquedaUltimaFecha = f'SELECT `id`,`time` FROM okex WHERE `ticker` = \"{ticker}\" ORDER BY `time` DESC limit 0,1'\n",
    "\n",
    "        ultimaFecha = engine.execute(busquedaUltimaFecha).fetchone()        \n",
    "\n",
    "        end = datetime.datetime.now() - datetime.timedelta(days=10)\n",
    "\n",
    "        if (ultimaFecha):\n",
    "            id = ultimaFecha[0]\n",
    "            end = ultimaFecha[1]\n",
    "\n",
    "            query_borrado = f'DELETE FROM okex WHERE `id`={id}'\n",
    "            engine.execute(query_borrado)\n",
    "\n",
    "        df=historialOkex(ticker=ticker,end=end)\n",
    "\n",
    "        df.to_sql('okex', engine, if_exists='append')\n",
    "\n",
    "        finished = len(df) < 2\n",
    "\n",
    "        #print(df)"
   ]
  },
  {
   "cell_type": "code",
   "execution_count": null,
   "metadata": {},
   "outputs": [],
   "source": []
  },
  {
   "cell_type": "code",
   "execution_count": 7,
   "metadata": {},
   "outputs": [],
   "source": [
    "def fechaEnMs(dt):\n",
    "    epoch = datetime.datetime.utcfromtimestamp(0)\n",
    "    return int((dt - epoch).total_seconds() * 1000)"
   ]
  },
  {
   "cell_type": "markdown",
   "metadata": {},
   "source": [
    "# Creamos la tabla en la cual vamos a guardar los datos de Binance."
   ]
  },
  {
   "cell_type": "code",
   "execution_count": 8,
   "metadata": {},
   "outputs": [
    {
     "data": {
      "text/plain": [
       "<sqlalchemy.engine.result.ResultProxy at 0x7fd9a94720d0>"
      ]
     },
     "execution_count": 8,
     "metadata": {},
     "output_type": "execute_result"
    }
   ],
   "source": [
    "create_table = '''\n",
    "CREATE TABLE IF NOT EXISTS `binance` (\n",
    "  `id` int(10) unsigned NOT NULL AUTO_INCREMENT,\n",
    "  `ticker` varchar(20) DEFAULT '',\n",
    "  `time` datetime DEFAULT NULL,\n",
    "  `open` double DEFAULT NULL,\n",
    "  `high` double DEFAULT NULL,\n",
    "  `low` double DEFAULT NULL,\n",
    "  `close` double DEFAULT NULL,\n",
    "  `volume` double DEFAULT NULL,\n",
    "  `open_time` bigint(20) DEFAULT NULL,\n",
    "  `c_time` bigint(20) DEFAULT NULL,\n",
    "  `q_volume` double DEFAULT NULL,\n",
    "  `trades` bigint(20) DEFAULT NULL,\n",
    "  `taker_base` double DEFAULT NULL,\n",
    "  `taker_quote` double DEFAULT NULL,\n",
    "  `ignore` bigint(20) DEFAULT NULL,\n",
    "  PRIMARY KEY (`id`),\n",
    "  KEY `idx_ticker_time` (`ticker`,`time`)\n",
    ") ENGINE=InnoDB AUTO_INCREMENT=1 DEFAULT CHARSET=latin1;\n",
    "'''\n",
    "engine.execute(create_table)"
   ]
  },
  {
   "cell_type": "markdown",
   "metadata": {},
   "source": [
    "# Creamos una funcion para bajar los datos de OKEX."
   ]
  },
  {
   "cell_type": "code",
   "execution_count": 9,
   "metadata": {},
   "outputs": [],
   "source": [
    "def DailySymbolVolSingleExchange(symbol, interval='1d', startTime=None, endTime=None, limit=30):\n",
    "    '''bajadaSimple('BTCUSDT',interval='2h',startTime=1597719600000,endTime=1600398000000)'''\n",
    "    url = 'https://api.binance.com/api/v3/klines'\n",
    "    params = {'symbol':symbol, 'interval':interval,'startTime':startTime, 'endTime':endTime, 'limit':limit}\n",
    "    r = requests.get(url, params=params)\n",
    "    js = r.json()\n",
    "    # Armo el dataframe\n",
    "    cols = ['open_time','open','high','low','close','volume','c_time',\n",
    "            'q_volume','trades','taker_base','taker_quote','ignore']\n",
    "    df = pd.DataFrame(js, columns=cols)\n",
    "    \n",
    "    #Convierto los valores strings a numeros\n",
    "    df = df.apply(pd.to_numeric)\n",
    "    \n",
    "    # Le mando indice de timestamp\n",
    "    df['time'] = pd.to_datetime(df.open_time, unit='ms')\n",
    "    #df.drop(['openTime','cTime','qVolume','trades','takerBase','takerQuote','Ignore'],axis=1,inplace=True)\n",
    "    return df"
   ]
  },
  {
   "cell_type": "markdown",
   "metadata": {},
   "source": [
    "# Iteramos y llamamos a la funcion creada"
   ]
  },
  {
   "cell_type": "code",
   "execution_count": 10,
   "metadata": {},
   "outputs": [
    {
     "name": "stdout",
     "output_type": "stream",
     "text": [
      "BTC\n",
      "2020-11-03 23:24:00\n",
      "2020-11-04 00:37:00\n",
      "ETH\n",
      "2020-11-03 23:24:00\n",
      "2020-11-04 00:37:00\n",
      "LTC\n",
      "2020-11-03 23:25:00\n",
      "2020-11-04 00:37:00\n",
      "ETC\n",
      "2020-11-03 23:25:00\n",
      "2020-11-04 00:37:00\n",
      "XRP\n",
      "2020-11-03 23:26:00\n",
      "2020-11-04 00:37:00\n",
      "EOS\n",
      "2020-11-03 23:26:00\n",
      "2020-11-04 00:37:00\n",
      "BCH\n",
      "2020-11-03 23:27:00\n",
      "2020-11-04 00:37:00\n",
      "BSV\n",
      "2020-10-24 21:33:58.813474\n",
      "TRX\n",
      "2020-11-03 23:27:00\n",
      "2020-11-04 00:37:00\n"
     ]
    }
   ],
   "source": [
    "for ticker in tickers:\n",
    "\n",
    "    print(ticker)\n",
    "\n",
    "    finished = False\n",
    "    while not finished:\n",
    "\n",
    "        busquedaUltimaFecha = f'SELECT `id`,`time` FROM binance WHERE `ticker` = \"{ticker}\" ORDER BY `time` DESC limit 0,1'\n",
    "        ultimaFecha = engine.execute(busquedaUltimaFecha).fetchone()\n",
    "    \n",
    "        start = datetime.datetime.now() - datetime.timedelta(days=10)\n",
    "        \n",
    "        if (ultimaFecha):\n",
    "            id = ultimaFecha[0]\n",
    "            start = ultimaFecha[1]\n",
    "\n",
    "            query_borrado = f'DELETE FROM binance WHERE `id`={id}'\n",
    "            engine.execute(query_borrado)\n",
    "       \n",
    "        print(start)\n",
    "        \n",
    "        start = fechaEnMs(start)\n",
    "\n",
    "        df = DailySymbolVolSingleExchange(f'{ticker}USDT', interval='1m', startTime=start, limit=1000)\n",
    "\n",
    "        df['ticker'] = ticker\n",
    "\n",
    "        df.set_index('time', inplace=True)\n",
    "\n",
    "        df.to_sql('binance', engine, if_exists='append')\n",
    "\n",
    "        finished = len(df) < 2"
   ]
  },
  {
   "cell_type": "markdown",
   "metadata": {},
   "source": [
    "# Creamos la vista"
   ]
  },
  {
   "cell_type": "code",
   "execution_count": 12,
   "metadata": {},
   "outputs": [
    {
     "data": {
      "text/plain": [
       "<sqlalchemy.engine.result.ResultProxy at 0x7fd9a94f9150>"
      ]
     },
     "execution_count": 12,
     "metadata": {},
     "output_type": "execute_result"
    }
   ],
   "source": [
    "create_vista = '''\n",
    "CREATE VIEW  margenes AS\n",
    "SELECT b.ticker, b.time, b.close as 'binance_close', o.close as 'okex_close', ((b.close / o.close - 1.0) * 100.0) as 'diferencia'\n",
    "FROM binance b JOIN okex o\n",
    "ON b.ticker = o.ticker and b.time = o.time\n",
    "where b.ticker != 'TRX'\n",
    "order by abs(diferencia) desc\n",
    "'''\n",
    "engine.execute(create_vista)"
   ]
  },
  {
   "cell_type": "markdown",
   "metadata": {},
   "source": [
    "# Leemos la Vista, en la cual vemos los margenes por minuto."
   ]
  },
  {
   "cell_type": "code",
   "execution_count": 13,
   "metadata": {},
   "outputs": [
    {
     "data": {
      "text/html": [
       "<div>\n",
       "<style scoped>\n",
       "    .dataframe tbody tr th:only-of-type {\n",
       "        vertical-align: middle;\n",
       "    }\n",
       "\n",
       "    .dataframe tbody tr th {\n",
       "        vertical-align: top;\n",
       "    }\n",
       "\n",
       "    .dataframe thead th {\n",
       "        text-align: right;\n",
       "    }\n",
       "</style>\n",
       "<table border=\"1\" class=\"dataframe\">\n",
       "  <thead>\n",
       "    <tr style=\"text-align: right;\">\n",
       "      <th></th>\n",
       "      <th>ticker</th>\n",
       "      <th>time</th>\n",
       "      <th>binance_close</th>\n",
       "      <th>okex_close</th>\n",
       "      <th>diferencia</th>\n",
       "    </tr>\n",
       "  </thead>\n",
       "  <tbody>\n",
       "    <tr>\n",
       "      <th>0</th>\n",
       "      <td>ETC</td>\n",
       "      <td>2020-11-03 20:17:00</td>\n",
       "      <td>5.042</td>\n",
       "      <td>4.852</td>\n",
       "      <td>3.915911</td>\n",
       "    </tr>\n",
       "    <tr>\n",
       "      <th>1</th>\n",
       "      <td>BCH</td>\n",
       "      <td>2020-11-03 03:13:00</td>\n",
       "      <td>238.250</td>\n",
       "      <td>231.550</td>\n",
       "      <td>2.893544</td>\n",
       "    </tr>\n",
       "    <tr>\n",
       "      <th>2</th>\n",
       "      <td>BCH</td>\n",
       "      <td>2020-11-03 03:12:00</td>\n",
       "      <td>238.690</td>\n",
       "      <td>233.410</td>\n",
       "      <td>2.262114</td>\n",
       "    </tr>\n",
       "    <tr>\n",
       "      <th>3</th>\n",
       "      <td>BCH</td>\n",
       "      <td>2020-11-03 03:11:00</td>\n",
       "      <td>237.900</td>\n",
       "      <td>233.690</td>\n",
       "      <td>1.801532</td>\n",
       "    </tr>\n",
       "    <tr>\n",
       "      <th>4</th>\n",
       "      <td>BCH</td>\n",
       "      <td>2020-11-03 03:15:00</td>\n",
       "      <td>239.610</td>\n",
       "      <td>235.620</td>\n",
       "      <td>1.693405</td>\n",
       "    </tr>\n",
       "    <tr>\n",
       "      <th>...</th>\n",
       "      <td>...</td>\n",
       "      <td>...</td>\n",
       "      <td>...</td>\n",
       "      <td>...</td>\n",
       "      <td>...</td>\n",
       "    </tr>\n",
       "    <tr>\n",
       "      <th>102464</th>\n",
       "      <td>LTC</td>\n",
       "      <td>2020-11-03 23:36:00</td>\n",
       "      <td>53.980</td>\n",
       "      <td>53.980</td>\n",
       "      <td>0.000000</td>\n",
       "    </tr>\n",
       "    <tr>\n",
       "      <th>102465</th>\n",
       "      <td>LTC</td>\n",
       "      <td>2020-11-03 23:40:00</td>\n",
       "      <td>53.940</td>\n",
       "      <td>53.940</td>\n",
       "      <td>0.000000</td>\n",
       "    </tr>\n",
       "    <tr>\n",
       "      <th>102466</th>\n",
       "      <td>LTC</td>\n",
       "      <td>2020-11-03 23:48:00</td>\n",
       "      <td>53.880</td>\n",
       "      <td>53.880</td>\n",
       "      <td>0.000000</td>\n",
       "    </tr>\n",
       "    <tr>\n",
       "      <th>102467</th>\n",
       "      <td>LTC</td>\n",
       "      <td>2020-11-04 00:32:00</td>\n",
       "      <td>54.030</td>\n",
       "      <td>54.030</td>\n",
       "      <td>0.000000</td>\n",
       "    </tr>\n",
       "    <tr>\n",
       "      <th>102468</th>\n",
       "      <td>BCH</td>\n",
       "      <td>2020-10-28 23:09:00</td>\n",
       "      <td>267.660</td>\n",
       "      <td>267.660</td>\n",
       "      <td>0.000000</td>\n",
       "    </tr>\n",
       "  </tbody>\n",
       "</table>\n",
       "<p>102469 rows × 5 columns</p>\n",
       "</div>"
      ],
      "text/plain": [
       "       ticker                time  binance_close  okex_close  diferencia\n",
       "0         ETC 2020-11-03 20:17:00          5.042       4.852    3.915911\n",
       "1         BCH 2020-11-03 03:13:00        238.250     231.550    2.893544\n",
       "2         BCH 2020-11-03 03:12:00        238.690     233.410    2.262114\n",
       "3         BCH 2020-11-03 03:11:00        237.900     233.690    1.801532\n",
       "4         BCH 2020-11-03 03:15:00        239.610     235.620    1.693405\n",
       "...       ...                 ...            ...         ...         ...\n",
       "102464    LTC 2020-11-03 23:36:00         53.980      53.980    0.000000\n",
       "102465    LTC 2020-11-03 23:40:00         53.940      53.940    0.000000\n",
       "102466    LTC 2020-11-03 23:48:00         53.880      53.880    0.000000\n",
       "102467    LTC 2020-11-04 00:32:00         54.030      54.030    0.000000\n",
       "102468    BCH 2020-10-28 23:09:00        267.660     267.660    0.000000\n",
       "\n",
       "[102469 rows x 5 columns]"
      ]
     },
     "execution_count": 13,
     "metadata": {},
     "output_type": "execute_result"
    }
   ],
   "source": [
    "q='SELECT * FROM margenes'\n",
    "pd.read_sql(q,engine)"
   ]
  }
 ],
 "metadata": {
  "kernelspec": {
   "display_name": "Python 3",
   "language": "python",
   "name": "python3"
  },
  "language_info": {
   "codemirror_mode": {
    "name": "ipython",
    "version": 3
   },
   "file_extension": ".py",
   "mimetype": "text/x-python",
   "name": "python",
   "nbconvert_exporter": "python",
   "pygments_lexer": "ipython3",
   "version": "3.7.6"
  },
  "toc": {
   "base_numbering": 1,
   "nav_menu": {},
   "number_sections": true,
   "sideBar": true,
   "skip_h1_title": false,
   "title_cell": "Table of Contents",
   "title_sidebar": "Contents",
   "toc_cell": false,
   "toc_position": {},
   "toc_section_display": true,
   "toc_window_display": false
  },
  "varInspector": {
   "cols": {
    "lenName": 16,
    "lenType": 16,
    "lenVar": 40
   },
   "kernels_config": {
    "python": {
     "delete_cmd_postfix": "",
     "delete_cmd_prefix": "del ",
     "library": "var_list.py",
     "varRefreshCmd": "print(var_dic_list())"
    },
    "r": {
     "delete_cmd_postfix": ") ",
     "delete_cmd_prefix": "rm(",
     "library": "var_list.r",
     "varRefreshCmd": "cat(var_dic_list()) "
    }
   },
   "types_to_exclude": [
    "module",
    "function",
    "builtin_function_or_method",
    "instance",
    "_Feature"
   ],
   "window_display": false
  }
 },
 "nbformat": 4,
 "nbformat_minor": 4
}
