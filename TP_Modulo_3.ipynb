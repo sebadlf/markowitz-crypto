{
 "cells": [
  {
   "cell_type": "markdown",
   "metadata": {},
   "source": [
    "TP Modulo 3 - Curso Python para Finanzas"
   ]
  },
  {
   "cell_type": "markdown",
   "metadata": {},
   "source": [
    "# Importamos los modulos a ser utilizados."
   ]
  },
  {
   "cell_type": "code",
   "execution_count": 19,
   "metadata": {},
   "outputs": [],
   "source": [
    "import requests, pandas as pd\n",
    "import numpy as np\n",
    "import tqdm\n",
    "import datetime\n",
    "from  keys import *\n",
    "from db import BD_CONNECTION\n",
    "from sqlalchemy import create_engine"
   ]
  },
  {
   "cell_type": "markdown",
   "metadata": {},
   "source": [
    "# Listamos los Tickers con los cuales vamos a trabajar. (La base siempre va a ser USDT)"
   ]
  },
  {
   "cell_type": "code",
   "execution_count": 5,
   "metadata": {},
   "outputs": [],
   "source": [
    "tickers = ['BTC', 'ETH', 'LTC', 'ETC', 'XRP', 'EOS', 'BCH', 'BSV', 'TRX']"
   ]
  },
  {
   "cell_type": "markdown",
   "metadata": {},
   "source": [
    "# Creamos la tabla en la cual vamos a guardar los datos de OKEX."
   ]
  },
  {
   "cell_type": "code",
   "execution_count": 13,
   "metadata": {},
   "outputs": [
    {
     "data": {
      "text/plain": [
       "<sqlalchemy.engine.result.ResultProxy at 0x25ee65e4a00>"
      ]
     },
     "execution_count": 13,
     "metadata": {},
     "output_type": "execute_result"
    }
   ],
   "source": [
    "create_table = '''\n",
    "CREATE TABLE IF NOT EXISTS `okex` (\n",
    "  `id` int(11) NOT NULL AUTO_INCREMENT,\n",
    "  `ticker` varchar(20) DEFAULT '',\n",
    "  `time` timestamp NULL DEFAULT NULL,\n",
    "  `open` double DEFAULT NULL,\n",
    "  `high` double DEFAULT NULL,\n",
    "  `low` double DEFAULT NULL,\n",
    "  `close` double DEFAULT NULL,\n",
    "  `volume` double DEFAULT NULL,\n",
    "  PRIMARY KEY (`id`),\n",
    "  UNIQUE KEY `idx_ticker_time` (`ticker`,`time`)\n",
    ") ENGINE=InnoDB AUTO_INCREMENT=1 DEFAULT CHARSET=latin1;\n",
    "'''\n",
    "engine.execute(create_table)"
   ]
  },
  {
   "cell_type": "markdown",
   "metadata": {},
   "source": [
    "# Creamos una funcion para bajar los datos de OKEX."
   ]
  },
  {
   "cell_type": "code",
   "execution_count": null,
   "metadata": {},
   "outputs": [],
   "source": [
    "def historialOkex(ticker,end):\n",
    "    '''ticker=btc, end=datetime'''\n",
    "    url = f'https://okex.com/api/spot/v3/instruments/{ticker}-USDT/history/candles'\n",
    "    start = end + datetime.timedelta(minutes=300 - 1)\n",
    "\n",
    "    params = {\n",
    "        'start': start.strftime('%Y-%m-%dT%H:%M:%S.000Z'),\n",
    "        'end': end.strftime('%Y-%m-%dT%H:%M:%S.000Z'),\n",
    "        'granularity': 60\n",
    "    }\n",
    "    print(params)\n",
    "    r = requests.get(url, params=params)\n",
    "    js = r.json()\n",
    "    df = pd.DataFrame(js)\n",
    "\n",
    "    df.columns = ['time', 'open', 'high', 'low', 'close', 'volume']\n",
    "\n",
    "    df.time = pd.to_datetime(df.time)\n",
    "    df.open = df.open.astype(float)\n",
    "    df.high = df.high.astype(float)\n",
    "    df.low = df.low.astype(float)\n",
    "    df.close = df.close.astype(float)\n",
    "    df.volume = df.volume.astype(float)\n",
    "\n",
    "    df['ticker'] = ticker\n",
    "\n",
    "    df.set_index('time', inplace=True)\n",
    "    return df"
   ]
  },
  {
   "cell_type": "markdown",
   "metadata": {},
   "source": [
    "# Iteramos y llamamos a la funcion creada"
   ]
  },
  {
   "cell_type": "code",
   "execution_count": 24,
   "metadata": {},
   "outputs": [
    {
     "name": "stdout",
     "output_type": "stream",
     "text": [
      "BTC\n",
      "{'start': '2020-11-03T02:16:33.000Z', 'end': '2020-11-02T21:17:33.000Z', 'granularity': 60}\n",
      "{'start': '2020-11-03T07:15:00.000Z', 'end': '2020-11-03T02:16:00.000Z', 'granularity': 60}\n",
      "{'start': '2020-11-03T12:14:00.000Z', 'end': '2020-11-03T07:15:00.000Z', 'granularity': 60}\n",
      "{'start': '2020-11-03T17:13:00.000Z', 'end': '2020-11-03T12:14:00.000Z', 'granularity': 60}\n",
      "{'start': '2020-11-03T22:12:00.000Z', 'end': '2020-11-03T17:13:00.000Z', 'granularity': 60}\n",
      "{'start': '2020-11-04T03:11:00.000Z', 'end': '2020-11-03T22:12:00.000Z', 'granularity': 60}\n",
      "{'start': '2020-11-04T05:15:00.000Z', 'end': '2020-11-04T00:16:00.000Z', 'granularity': 60}\n",
      "ETH\n",
      "{'start': '2020-11-03T02:16:47.000Z', 'end': '2020-11-02T21:17:47.000Z', 'granularity': 60}\n",
      "{'start': '2020-11-03T07:15:00.000Z', 'end': '2020-11-03T02:16:00.000Z', 'granularity': 60}\n",
      "{'start': '2020-11-03T12:14:00.000Z', 'end': '2020-11-03T07:15:00.000Z', 'granularity': 60}\n",
      "{'start': '2020-11-03T17:13:00.000Z', 'end': '2020-11-03T12:14:00.000Z', 'granularity': 60}\n",
      "{'start': '2020-11-03T22:12:00.000Z', 'end': '2020-11-03T17:13:00.000Z', 'granularity': 60}\n",
      "{'start': '2020-11-04T03:11:00.000Z', 'end': '2020-11-03T22:12:00.000Z', 'granularity': 60}\n",
      "{'start': '2020-11-04T05:15:00.000Z', 'end': '2020-11-04T00:16:00.000Z', 'granularity': 60}\n",
      "LTC\n",
      "{'start': '2020-11-03T02:17:00.000Z', 'end': '2020-11-02T21:18:00.000Z', 'granularity': 60}\n",
      "{'start': '2020-11-03T07:16:00.000Z', 'end': '2020-11-03T02:17:00.000Z', 'granularity': 60}\n",
      "{'start': '2020-11-03T12:15:00.000Z', 'end': '2020-11-03T07:16:00.000Z', 'granularity': 60}\n",
      "{'start': '2020-11-03T17:14:00.000Z', 'end': '2020-11-03T12:15:00.000Z', 'granularity': 60}\n",
      "{'start': '2020-11-03T22:13:00.000Z', 'end': '2020-11-03T17:14:00.000Z', 'granularity': 60}\n",
      "{'start': '2020-11-04T03:12:00.000Z', 'end': '2020-11-03T22:13:00.000Z', 'granularity': 60}\n",
      "{'start': '2020-11-04T05:16:00.000Z', 'end': '2020-11-04T00:17:00.000Z', 'granularity': 60}\n",
      "ETC\n",
      "{'start': '2020-11-03T02:17:14.000Z', 'end': '2020-11-02T21:18:14.000Z', 'granularity': 60}\n",
      "{'start': '2020-11-03T07:16:00.000Z', 'end': '2020-11-03T02:17:00.000Z', 'granularity': 60}\n",
      "{'start': '2020-11-03T12:15:00.000Z', 'end': '2020-11-03T07:16:00.000Z', 'granularity': 60}\n",
      "{'start': '2020-11-03T17:14:00.000Z', 'end': '2020-11-03T12:15:00.000Z', 'granularity': 60}\n",
      "{'start': '2020-11-03T22:13:00.000Z', 'end': '2020-11-03T17:14:00.000Z', 'granularity': 60}\n",
      "{'start': '2020-11-04T03:12:00.000Z', 'end': '2020-11-03T22:13:00.000Z', 'granularity': 60}\n",
      "{'start': '2020-11-04T05:16:00.000Z', 'end': '2020-11-04T00:17:00.000Z', 'granularity': 60}\n",
      "XRP\n",
      "{'start': '2020-11-03T02:17:29.000Z', 'end': '2020-11-02T21:18:29.000Z', 'granularity': 60}\n",
      "{'start': '2020-11-03T07:16:00.000Z', 'end': '2020-11-03T02:17:00.000Z', 'granularity': 60}\n",
      "{'start': '2020-11-03T12:15:00.000Z', 'end': '2020-11-03T07:16:00.000Z', 'granularity': 60}\n",
      "{'start': '2020-11-03T17:14:00.000Z', 'end': '2020-11-03T12:15:00.000Z', 'granularity': 60}\n",
      "{'start': '2020-11-03T22:13:00.000Z', 'end': '2020-11-03T17:14:00.000Z', 'granularity': 60}\n",
      "{'start': '2020-11-04T03:12:00.000Z', 'end': '2020-11-03T22:13:00.000Z', 'granularity': 60}\n",
      "{'start': '2020-11-04T05:16:00.000Z', 'end': '2020-11-04T00:17:00.000Z', 'granularity': 60}\n",
      "EOS\n",
      "{'start': '2020-11-03T02:17:43.000Z', 'end': '2020-11-02T21:18:43.000Z', 'granularity': 60}\n",
      "{'start': '2020-11-03T07:16:00.000Z', 'end': '2020-11-03T02:17:00.000Z', 'granularity': 60}\n",
      "{'start': '2020-11-03T12:15:00.000Z', 'end': '2020-11-03T07:16:00.000Z', 'granularity': 60}\n",
      "{'start': '2020-11-03T17:14:00.000Z', 'end': '2020-11-03T12:15:00.000Z', 'granularity': 60}\n",
      "{'start': '2020-11-03T22:13:00.000Z', 'end': '2020-11-03T17:14:00.000Z', 'granularity': 60}\n",
      "{'start': '2020-11-04T03:12:00.000Z', 'end': '2020-11-03T22:13:00.000Z', 'granularity': 60}\n",
      "{'start': '2020-11-04T05:16:00.000Z', 'end': '2020-11-04T00:17:00.000Z', 'granularity': 60}\n",
      "BCH\n",
      "{'start': '2020-11-03T02:17:57.000Z', 'end': '2020-11-02T21:18:57.000Z', 'granularity': 60}\n",
      "{'start': '2020-11-03T07:16:00.000Z', 'end': '2020-11-03T02:17:00.000Z', 'granularity': 60}\n",
      "{'start': '2020-11-03T12:15:00.000Z', 'end': '2020-11-03T07:16:00.000Z', 'granularity': 60}\n",
      "{'start': '2020-11-03T17:14:00.000Z', 'end': '2020-11-03T12:15:00.000Z', 'granularity': 60}\n",
      "{'start': '2020-11-03T22:13:00.000Z', 'end': '2020-11-03T17:14:00.000Z', 'granularity': 60}\n",
      "{'start': '2020-11-04T03:12:00.000Z', 'end': '2020-11-03T22:13:00.000Z', 'granularity': 60}\n",
      "{'start': '2020-11-04T05:17:00.000Z', 'end': '2020-11-04T00:18:00.000Z', 'granularity': 60}\n",
      "BSV\n",
      "{'start': '2020-11-03T02:18:11.000Z', 'end': '2020-11-02T21:19:11.000Z', 'granularity': 60}\n",
      "{'start': '2020-11-03T07:17:00.000Z', 'end': '2020-11-03T02:18:00.000Z', 'granularity': 60}\n",
      "{'start': '2020-11-03T12:16:00.000Z', 'end': '2020-11-03T07:17:00.000Z', 'granularity': 60}\n",
      "{'start': '2020-11-03T17:15:00.000Z', 'end': '2020-11-03T12:16:00.000Z', 'granularity': 60}\n",
      "{'start': '2020-11-03T22:14:00.000Z', 'end': '2020-11-03T17:15:00.000Z', 'granularity': 60}\n",
      "{'start': '2020-11-04T03:13:00.000Z', 'end': '2020-11-03T22:14:00.000Z', 'granularity': 60}\n",
      "{'start': '2020-11-04T05:17:00.000Z', 'end': '2020-11-04T00:18:00.000Z', 'granularity': 60}\n",
      "TRX\n",
      "{'start': '2020-11-03T02:18:25.000Z', 'end': '2020-11-02T21:19:25.000Z', 'granularity': 60}\n",
      "{'start': '2020-11-03T07:17:00.000Z', 'end': '2020-11-03T02:18:00.000Z', 'granularity': 60}\n",
      "{'start': '2020-11-03T12:16:00.000Z', 'end': '2020-11-03T07:17:00.000Z', 'granularity': 60}\n",
      "{'start': '2020-11-03T17:15:00.000Z', 'end': '2020-11-03T12:16:00.000Z', 'granularity': 60}\n",
      "{'start': '2020-11-03T22:14:00.000Z', 'end': '2020-11-03T17:15:00.000Z', 'granularity': 60}\n",
      "{'start': '2020-11-04T03:13:00.000Z', 'end': '2020-11-03T22:14:00.000Z', 'granularity': 60}\n",
      "{'start': '2020-11-04T05:17:00.000Z', 'end': '2020-11-04T00:18:00.000Z', 'granularity': 60}\n"
     ]
    }
   ],
   "source": [
    "for ticker in tickers:\n",
    "    print(ticker)\n",
    "\n",
    "\n",
    "    finished = False\n",
    "    while not finished:\n",
    "        busquedaUltimaFecha = f'SELECT `id`,`time` FROM okex WHERE `ticker` = \"{ticker}\" ORDER BY `time` DESC limit 0,1'\n",
    "\n",
    "        ultimaFecha = engine.execute(busquedaUltimaFecha).fetchone()        \n",
    "\n",
    "        end = datetime.datetime.now() - datetime.timedelta(days=10)\n",
    "\n",
    "        if (ultimaFecha):\n",
    "            id = ultimaFecha[0]\n",
    "            end = ultimaFecha[1]\n",
    "\n",
    "            query_borrado = f'DELETE FROM okex WHERE `id`={id}'\n",
    "            engine.execute(query_borrado)\n",
    "\n",
    "        df=historialOkex(ticker=ticker,end=end)\n",
    "\n",
    "        df.to_sql('okex', engine, if_exists='append')\n",
    "\n",
    "        finished = len(df) < 2\n",
    "\n",
    "        #print(df)"
   ]
  },
  {
   "cell_type": "code",
   "execution_count": null,
   "metadata": {},
   "outputs": [],
   "source": []
  },
  {
   "cell_type": "code",
   "execution_count": 25,
   "metadata": {},
   "outputs": [],
   "source": [
    "def fechaEnMs(dt):\n",
    "    epoch = datetime.datetime.utcfromtimestamp(0)\n",
    "    return int((dt - epoch).total_seconds() * 1000)"
   ]
  },
  {
   "cell_type": "markdown",
   "metadata": {},
   "source": [
    "# Creamos la tabla en la cual vamos a guardar los datos de Binance."
   ]
  },
  {
   "cell_type": "code",
   "execution_count": 27,
   "metadata": {},
   "outputs": [
    {
     "data": {
      "text/plain": [
       "<sqlalchemy.engine.result.ResultProxy at 0x25ee6aa91c0>"
      ]
     },
     "execution_count": 27,
     "metadata": {},
     "output_type": "execute_result"
    }
   ],
   "source": [
    "create_table = '''\n",
    "CREATE TABLE IF NOT EXISTS `binance` (\n",
    "  `id` int(10) unsigned NOT NULL AUTO_INCREMENT,\n",
    "  `ticker` varchar(20) DEFAULT '',\n",
    "  `time` datetime DEFAULT NULL,\n",
    "  `open` double DEFAULT NULL,\n",
    "  `high` double DEFAULT NULL,\n",
    "  `low` double DEFAULT NULL,\n",
    "  `close` double DEFAULT NULL,\n",
    "  `volume` double DEFAULT NULL,\n",
    "  `open_time` bigint(20) DEFAULT NULL,\n",
    "  `c_time` bigint(20) DEFAULT NULL,\n",
    "  `q_volume` double DEFAULT NULL,\n",
    "  `trades` bigint(20) DEFAULT NULL,\n",
    "  `taker_base` double DEFAULT NULL,\n",
    "  `taker_quote` double DEFAULT NULL,\n",
    "  `ignore` bigint(20) DEFAULT NULL,\n",
    "  PRIMARY KEY (`id`),\n",
    "  KEY `idx_ticker_time` (`ticker`,`time`)\n",
    ") ENGINE=InnoDB AUTO_INCREMENT=1 DEFAULT CHARSET=latin1;\n",
    "'''\n",
    "engine.execute(create_table)"
   ]
  },
  {
   "cell_type": "markdown",
   "metadata": {},
   "source": [
    "# Creamos una funcion para bajar los datos de OKEX."
   ]
  },
  {
   "cell_type": "code",
   "execution_count": 26,
   "metadata": {},
   "outputs": [],
   "source": [
    "def DailySymbolVolSingleExchange(symbol, interval='1d', startTime=None, endTime=None, limit=30):\n",
    "    '''bajadaSimple('BTCUSDT',interval='2h',startTime=1597719600000,endTime=1600398000000)'''\n",
    "    url = 'https://api.binance.com/api/v3/klines'\n",
    "    params = {'symbol':symbol, 'interval':interval,'startTime':startTime, 'endTime':endTime, 'limit':limit}\n",
    "    r = requests.get(url, params=params)\n",
    "    js = r.json()\n",
    "    # Armo el dataframe\n",
    "    cols = ['open_time','open','high','low','close','volume','c_time',\n",
    "            'q_volume','trades','taker_base','taker_quote','ignore']\n",
    "    df = pd.DataFrame(js, columns=cols)\n",
    "    \n",
    "    #Convierto los valores strings a numeros\n",
    "    df = df.apply(pd.to_numeric)\n",
    "    \n",
    "    # Le mando indice de timestamp\n",
    "    df['time'] = pd.to_datetime(df.open_time, unit='ms')\n",
    "    #df.drop(['openTime','cTime','qVolume','trades','takerBase','takerQuote','Ignore'],axis=1,inplace=True)\n",
    "    return df"
   ]
  },
  {
   "cell_type": "markdown",
   "metadata": {},
   "source": [
    "# Iteramos y llamamos a la funcion creada"
   ]
  },
  {
   "cell_type": "code",
   "execution_count": 28,
   "metadata": {},
   "outputs": [
    {
     "name": "stdout",
     "output_type": "stream",
     "text": [
      "BTC\n",
      "2020-10-24 21:21:31.959874\n",
      "2020-10-25 14:01:00\n",
      "2020-10-26 06:40:00\n",
      "2020-10-26 23:19:00\n",
      "2020-10-27 15:58:00\n",
      "2020-10-28 08:37:00\n",
      "2020-10-29 01:16:00\n",
      "2020-10-29 17:55:00\n",
      "2020-10-30 10:34:00\n",
      "2020-10-31 03:13:00\n",
      "2020-10-31 19:52:00\n",
      "2020-11-01 12:31:00\n",
      "2020-11-02 05:10:00\n",
      "2020-11-02 21:49:00\n",
      "2020-11-03 14:28:00\n",
      "2020-11-04 00:21:00\n",
      "ETH\n",
      "2020-10-24 21:21:45.813172\n",
      "2020-10-25 14:01:00\n",
      "2020-10-26 06:40:00\n",
      "2020-10-26 23:19:00\n",
      "2020-10-27 15:58:00\n",
      "2020-10-28 08:37:00\n",
      "2020-10-29 01:16:00\n",
      "2020-10-29 17:55:00\n",
      "2020-10-30 10:34:00\n",
      "2020-10-31 03:13:00\n",
      "2020-10-31 19:52:00\n",
      "2020-11-01 12:31:00\n",
      "2020-11-02 05:10:00\n",
      "2020-11-02 21:49:00\n",
      "2020-11-03 14:28:00\n",
      "2020-11-04 00:21:00\n",
      "LTC\n",
      "2020-10-24 21:21:58.726628\n",
      "2020-10-25 14:01:00\n",
      "2020-10-26 06:40:00\n",
      "2020-10-26 23:19:00\n",
      "2020-10-27 15:58:00\n",
      "2020-10-28 08:37:00\n",
      "2020-10-29 01:16:00\n",
      "2020-10-29 17:55:00\n",
      "2020-10-30 10:34:00\n",
      "2020-10-31 03:13:00\n",
      "2020-10-31 19:52:00\n",
      "2020-11-01 12:31:00\n",
      "2020-11-02 05:10:00\n",
      "2020-11-02 21:49:00\n",
      "2020-11-03 14:28:00\n",
      "2020-11-04 00:22:00\n",
      "ETC\n",
      "2020-10-24 21:22:10.572660\n",
      "2020-10-25 14:02:00\n",
      "2020-10-26 06:41:00\n",
      "2020-10-26 23:20:00\n",
      "2020-10-27 15:59:00\n",
      "2020-10-28 08:38:00\n",
      "2020-10-29 01:17:00\n",
      "2020-10-29 17:56:00\n",
      "2020-10-30 10:35:00\n",
      "2020-10-31 03:14:00\n",
      "2020-10-31 19:53:00\n",
      "2020-11-01 12:32:00\n",
      "2020-11-02 05:11:00\n",
      "2020-11-02 21:50:00\n",
      "2020-11-03 14:29:00\n",
      "2020-11-04 00:22:00\n",
      "XRP\n",
      "2020-10-24 21:22:22.522666\n",
      "2020-10-25 14:02:00\n",
      "2020-10-26 06:41:00\n",
      "2020-10-26 23:20:00\n",
      "2020-10-27 15:59:00\n",
      "2020-10-28 08:38:00\n",
      "2020-10-29 01:17:00\n",
      "2020-10-29 17:56:00\n",
      "2020-10-30 10:35:00\n",
      "2020-10-31 03:14:00\n",
      "2020-10-31 19:53:00\n",
      "2020-11-01 12:32:00\n",
      "2020-11-02 05:11:00\n",
      "2020-11-02 21:50:00\n",
      "2020-11-03 14:29:00\n",
      "2020-11-04 00:22:00\n",
      "EOS\n",
      "2020-10-24 21:22:35.598219\n",
      "2020-10-25 14:02:00\n",
      "2020-10-26 06:41:00\n",
      "2020-10-26 23:20:00\n",
      "2020-10-27 15:59:00\n",
      "2020-10-28 08:38:00\n",
      "2020-10-29 01:17:00\n",
      "2020-10-29 17:56:00\n",
      "2020-10-30 10:35:00\n",
      "2020-10-31 03:14:00\n",
      "2020-10-31 19:53:00\n",
      "2020-11-01 12:32:00\n",
      "2020-11-02 05:11:00\n",
      "2020-11-02 21:50:00\n",
      "2020-11-03 14:29:00\n",
      "2020-11-04 00:22:00\n",
      "BCH\n",
      "2020-10-24 21:22:46.770940\n",
      "2020-10-25 14:02:00\n",
      "2020-10-26 06:41:00\n",
      "2020-10-26 23:20:00\n",
      "2020-10-27 15:59:00\n",
      "2020-10-28 08:38:00\n",
      "2020-10-29 01:17:00\n",
      "2020-10-29 17:56:00\n",
      "2020-10-30 10:35:00\n",
      "2020-10-31 03:14:00\n",
      "2020-10-31 19:53:00\n",
      "2020-11-01 12:32:00\n",
      "2020-11-02 05:11:00\n",
      "2020-11-02 21:50:00\n",
      "2020-11-03 14:29:00\n",
      "2020-11-04 00:23:00\n",
      "BSV\n",
      "2020-10-24 21:23:02.497889\n",
      "TRX\n",
      "2020-10-24 21:23:02.960636\n",
      "2020-10-25 14:03:00\n",
      "2020-10-26 06:42:00\n",
      "2020-10-26 23:21:00\n",
      "2020-10-27 16:00:00\n",
      "2020-10-28 08:39:00\n",
      "2020-10-29 01:18:00\n",
      "2020-10-29 17:57:00\n",
      "2020-10-30 10:36:00\n",
      "2020-10-31 03:15:00\n",
      "2020-10-31 19:54:00\n",
      "2020-11-01 12:33:00\n",
      "2020-11-02 05:12:00\n",
      "2020-11-02 21:51:00\n",
      "2020-11-03 14:30:00\n",
      "2020-11-04 00:23:00\n"
     ]
    }
   ],
   "source": [
    "for ticker in tickers:\n",
    "\n",
    "    print(ticker)\n",
    "\n",
    "    finished = False\n",
    "    while not finished:\n",
    "\n",
    "        busquedaUltimaFecha = f'SELECT `id`,`time` FROM binance WHERE `ticker` = \"{ticker}\" ORDER BY `time` DESC limit 0,1'\n",
    "        ultimaFecha = engine.execute(busquedaUltimaFecha).fetchone()\n",
    "    \n",
    "        start = datetime.datetime.now() - datetime.timedelta(days=10)\n",
    "        \n",
    "        if (ultimaFecha):\n",
    "            id = ultimaFecha[0]\n",
    "            start = ultimaFecha[1]\n",
    "\n",
    "            query_borrado = f'DELETE FROM binance WHERE `id`={id}'\n",
    "            engine.execute(query_borrado)\n",
    "       \n",
    "        print(start)\n",
    "        \n",
    "        start = fechaEnMs(start)\n",
    "\n",
    "        df = DailySymbolVolSingleExchange(f'{ticker}USDT', interval='1m', startTime=start, limit=1000)\n",
    "\n",
    "        df['ticker'] = ticker\n",
    "\n",
    "        df.set_index('time', inplace=True)\n",
    "\n",
    "        df.to_sql('binance', engine, if_exists='append')\n",
    "\n",
    "        finished = len(df) < 2"
   ]
  },
  {
   "cell_type": "markdown",
   "metadata": {},
   "source": [
    "# Creamos la vista"
   ]
  },
  {
   "cell_type": "code",
   "execution_count": 29,
   "metadata": {},
   "outputs": [
    {
     "data": {
      "text/plain": [
       "<sqlalchemy.engine.result.ResultProxy at 0x25ee67298b0>"
      ]
     },
     "execution_count": 29,
     "metadata": {},
     "output_type": "execute_result"
    }
   ],
   "source": [
    "create_vista = '''\n",
    "CREATE VIEW  margenes AS\n",
    "SELECT b.ticker, b.time, b.close as 'binance_close', o.close as 'okex_close', ((b.close / o.close - 1.0) * 100.0) as 'diferencia'\n",
    "FROM binance b JOIN okex o\n",
    "ON b.ticker = o.ticker and b.time = o.time\n",
    "where b.ticker != 'TRX'\n",
    "order by abs(diferencia) desc\n",
    "'''\n",
    "engine.execute(create_vista)"
   ]
  },
  {
   "cell_type": "markdown",
   "metadata": {},
   "source": [
    "# Leemos la Vista, en la cual vemos los margenes por minuto."
   ]
  },
  {
   "cell_type": "code",
   "execution_count": 30,
   "metadata": {},
   "outputs": [
    {
     "data": {
      "text/html": [
       "<div>\n",
       "<style scoped>\n",
       "    .dataframe tbody tr th:only-of-type {\n",
       "        vertical-align: middle;\n",
       "    }\n",
       "\n",
       "    .dataframe tbody tr th {\n",
       "        vertical-align: top;\n",
       "    }\n",
       "\n",
       "    .dataframe thead th {\n",
       "        text-align: right;\n",
       "    }\n",
       "</style>\n",
       "<table border=\"1\" class=\"dataframe\">\n",
       "  <thead>\n",
       "    <tr style=\"text-align: right;\">\n",
       "      <th></th>\n",
       "      <th>ticker</th>\n",
       "      <th>time</th>\n",
       "      <th>binance_close</th>\n",
       "      <th>okex_close</th>\n",
       "      <th>diferencia</th>\n",
       "    </tr>\n",
       "  </thead>\n",
       "  <tbody>\n",
       "    <tr>\n",
       "      <th>0</th>\n",
       "      <td>ETC</td>\n",
       "      <td>2020-11-03 20:17:00</td>\n",
       "      <td>5.042</td>\n",
       "      <td>4.852</td>\n",
       "      <td>3.915911</td>\n",
       "    </tr>\n",
       "    <tr>\n",
       "      <th>1</th>\n",
       "      <td>BCH</td>\n",
       "      <td>2020-11-03 03:13:00</td>\n",
       "      <td>238.250</td>\n",
       "      <td>231.550</td>\n",
       "      <td>2.893544</td>\n",
       "    </tr>\n",
       "    <tr>\n",
       "      <th>2</th>\n",
       "      <td>BCH</td>\n",
       "      <td>2020-11-03 03:12:00</td>\n",
       "      <td>238.690</td>\n",
       "      <td>233.410</td>\n",
       "      <td>2.262114</td>\n",
       "    </tr>\n",
       "    <tr>\n",
       "      <th>3</th>\n",
       "      <td>BCH</td>\n",
       "      <td>2020-11-03 03:11:00</td>\n",
       "      <td>237.900</td>\n",
       "      <td>233.690</td>\n",
       "      <td>1.801532</td>\n",
       "    </tr>\n",
       "    <tr>\n",
       "      <th>4</th>\n",
       "      <td>BCH</td>\n",
       "      <td>2020-11-03 03:15:00</td>\n",
       "      <td>239.610</td>\n",
       "      <td>235.620</td>\n",
       "      <td>1.693405</td>\n",
       "    </tr>\n",
       "    <tr>\n",
       "      <th>...</th>\n",
       "      <td>...</td>\n",
       "      <td>...</td>\n",
       "      <td>...</td>\n",
       "      <td>...</td>\n",
       "      <td>...</td>\n",
       "    </tr>\n",
       "    <tr>\n",
       "      <th>11330</th>\n",
       "      <td>LTC</td>\n",
       "      <td>2020-11-03 11:55:00</td>\n",
       "      <td>52.770</td>\n",
       "      <td>52.770</td>\n",
       "      <td>0.000000</td>\n",
       "    </tr>\n",
       "    <tr>\n",
       "      <th>11331</th>\n",
       "      <td>LTC</td>\n",
       "      <td>2020-11-03 11:51:00</td>\n",
       "      <td>52.790</td>\n",
       "      <td>52.790</td>\n",
       "      <td>0.000000</td>\n",
       "    </tr>\n",
       "    <tr>\n",
       "      <th>11332</th>\n",
       "      <td>LTC</td>\n",
       "      <td>2020-11-03 11:47:00</td>\n",
       "      <td>52.860</td>\n",
       "      <td>52.860</td>\n",
       "      <td>0.000000</td>\n",
       "    </tr>\n",
       "    <tr>\n",
       "      <th>11333</th>\n",
       "      <td>LTC</td>\n",
       "      <td>2020-11-03 21:14:00</td>\n",
       "      <td>53.770</td>\n",
       "      <td>53.770</td>\n",
       "      <td>0.000000</td>\n",
       "    </tr>\n",
       "    <tr>\n",
       "      <th>11334</th>\n",
       "      <td>LTC</td>\n",
       "      <td>2020-11-03 11:07:00</td>\n",
       "      <td>53.150</td>\n",
       "      <td>53.150</td>\n",
       "      <td>0.000000</td>\n",
       "    </tr>\n",
       "  </tbody>\n",
       "</table>\n",
       "<p>11335 rows × 5 columns</p>\n",
       "</div>"
      ],
      "text/plain": [
       "      ticker                time  binance_close  okex_close  diferencia\n",
       "0        ETC 2020-11-03 20:17:00          5.042       4.852    3.915911\n",
       "1        BCH 2020-11-03 03:13:00        238.250     231.550    2.893544\n",
       "2        BCH 2020-11-03 03:12:00        238.690     233.410    2.262114\n",
       "3        BCH 2020-11-03 03:11:00        237.900     233.690    1.801532\n",
       "4        BCH 2020-11-03 03:15:00        239.610     235.620    1.693405\n",
       "...      ...                 ...            ...         ...         ...\n",
       "11330    LTC 2020-11-03 11:55:00         52.770      52.770    0.000000\n",
       "11331    LTC 2020-11-03 11:51:00         52.790      52.790    0.000000\n",
       "11332    LTC 2020-11-03 11:47:00         52.860      52.860    0.000000\n",
       "11333    LTC 2020-11-03 21:14:00         53.770      53.770    0.000000\n",
       "11334    LTC 2020-11-03 11:07:00         53.150      53.150    0.000000\n",
       "\n",
       "[11335 rows x 5 columns]"
      ]
     },
     "execution_count": 30,
     "metadata": {},
     "output_type": "execute_result"
    }
   ],
   "source": [
    "q='SELECT * FROM margenes'\n",
    "pd.read_sql(q,engine)"
   ]
  }
 ],
 "metadata": {
  "kernelspec": {
   "display_name": "Python 3",
   "language": "python",
   "name": "python3"
  },
  "language_info": {
   "codemirror_mode": {
    "name": "ipython",
    "version": 3
   },
   "file_extension": ".py",
   "mimetype": "text/x-python",
   "name": "python",
   "nbconvert_exporter": "python",
   "pygments_lexer": "ipython3",
   "version": "3.8.3"
  },
  "toc": {
   "base_numbering": 1,
   "nav_menu": {},
   "number_sections": true,
   "sideBar": true,
   "skip_h1_title": false,
   "title_cell": "Table of Contents",
   "title_sidebar": "Contents",
   "toc_cell": false,
   "toc_position": {},
   "toc_section_display": true,
   "toc_window_display": false
  },
  "varInspector": {
   "cols": {
    "lenName": 16,
    "lenType": 16,
    "lenVar": 40
   },
   "kernels_config": {
    "python": {
     "delete_cmd_postfix": "",
     "delete_cmd_prefix": "del ",
     "library": "var_list.py",
     "varRefreshCmd": "print(var_dic_list())"
    },
    "r": {
     "delete_cmd_postfix": ") ",
     "delete_cmd_prefix": "rm(",
     "library": "var_list.r",
     "varRefreshCmd": "cat(var_dic_list()) "
    }
   },
   "types_to_exclude": [
    "module",
    "function",
    "builtin_function_or_method",
    "instance",
    "_Feature"
   ],
   "window_display": false
  }
 },
 "nbformat": 4,
 "nbformat_minor": 4
}
